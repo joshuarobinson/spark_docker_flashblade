{
 "cells": [
  {
   "cell_type": "code",
   "execution_count": 9,
   "metadata": {},
   "outputs": [],
   "source": [
    "import numpy as np\n",
    "from sklearn.datasets.samples_generator import make_blobs"
   ]
  },
  {
   "cell_type": "code",
   "execution_count": 10,
   "metadata": {},
   "outputs": [],
   "source": [
    "# Constant to determine the size of the input dataset.\n",
    "total_samples=1 * 1000 * 1000 * 1000\n",
    "numslices=1000\n",
    "samples_per_slice=total_samples // numslices"
   ]
  },
  {
   "cell_type": "code",
   "execution_count": 11,
   "metadata": {},
   "outputs": [],
   "source": [
    "# Generator function to be run within each partition.\n",
    "def generate_testdata(seed):\n",
    "    X, y = make_blobs(n_samples=samples_per_slice, centers=25, n_features=200, random_state=seed)\n",
    "    return np.column_stack((X,y))"
   ]
  },
  {
   "cell_type": "code",
   "execution_count": 12,
   "metadata": {},
   "outputs": [],
   "source": [
    "# Create partitions to be filled in with samples via generate_testdata()\n",
    "seeds = sc.parallelize(np.arange(numslices), numslices)"
   ]
  },
  {
   "cell_type": "code",
   "execution_count": 13,
   "metadata": {},
   "outputs": [],
   "source": [
    "# Generate test data as numpy arrays.\n",
    "testdata = seeds.flatMap(generate_testdata)"
   ]
  },
  {
   "cell_type": "code",
   "execution_count": 14,
   "metadata": {},
   "outputs": [],
   "source": [
    "# Convert to a text file of numerical values.\n",
    "text = testdata.map(lambda r: \" \".join([str(i) for i in r]))"
   ]
  },
  {
   "cell_type": "code",
   "execution_count": 15,
   "metadata": {},
   "outputs": [],
   "source": [
    "# Save input data.\n",
    "text.saveAsTextFile(\"/datahub-210/kmeans_mllib/testdata\")"
   ]
  }
 ],
 "metadata": {
  "kernelspec": {
   "display_name": "Python 3",
   "language": "python",
   "name": "python3"
  },
  "language_info": {
   "codemirror_mode": {
    "name": "ipython",
    "version": 3
   },
   "file_extension": ".py",
   "mimetype": "text/x-python",
   "name": "python",
   "nbconvert_exporter": "python",
   "pygments_lexer": "ipython3",
   "version": "3.5.3"
  }
 },
 "nbformat": 4,
 "nbformat_minor": 2
}
